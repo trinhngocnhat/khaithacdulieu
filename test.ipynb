{
 "cells": [
  {
   "cell_type": "markdown",
   "metadata": {},
   "source": [
    "\"CustomerID\tGender\tAge\tAnnual Income (k$)\tSpending Score (1-100)\n",
    "195\t196\tFemale\t35\t120\t79\n",
    "196\t197\tFemale\t45\t126\t28\n",
    "197\t198\tMale\t32\t126\t74\n",
    "198\t199\tMale\t32\t137\t18\n",
    "199\t200\tMale\t30\t137\t83\n",
    "\" hãy giúp tôi áp dụng thuật toán KNN cho tập dữ liệu này bằng jupyter và thư viện mà tôi đang sử dụng "
   ]
  }
 ],
 "metadata": {
  "language_info": {
   "name": "python"
  }
 },
 "nbformat": 4,
 "nbformat_minor": 2
}
